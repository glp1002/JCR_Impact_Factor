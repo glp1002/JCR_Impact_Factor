{
 "cells": [
  {
   "attachments": {},
   "cell_type": "markdown",
   "metadata": {},
   "source": [
    "# __MODELO DE PREDICCIÓN DEL JCR__\n",
    "\n",
    "El notebook de Jupyter que se presenta tiene como objetivo crear un __modelo de predicción__ mediante __regresión__ para el JCR de las revistas más actuales en el campo de _Artificial Intelligence_ (_Computer Science_). \n",
    "\n",
    "### __IMPORTS__\n",
    "\n",
    "A lo largo del notebook, se necesitará importar las siguientes librerías:"
   ]
  },
  {
   "cell_type": "code",
   "execution_count": null,
   "metadata": {},
   "outputs": [],
   "source": [
    "import pandas as pd\n",
    "import numpy as np\n",
    "\n",
    "from sklearn.ensemble import RandomForestRegressor\n",
    "from sklearn.neural_network import MLPRegressor\n",
    "from sklearn.linear_model import LinearRegression, LassoCV, RidgeCV\n",
    "from sklearn.ensemble import StackingRegressor\n",
    "from xgboost import XGBRegressor\n",
    "from sklearn.svm import SVR, LinearSVR\n",
    "\n",
    "from sklearn.model_selection import GridSearchCV, RepeatedKFold\n",
    "from sklearn.metrics import mean_squared_error"
   ]
  },
  {
   "attachments": {},
   "cell_type": "markdown",
   "metadata": {},
   "source": [
    "### __DATASET__\n",
    "\n",
    "Para poder ejecutar este notebook, será necesario tener los siguientes ficheros (en el mismo directorio del notebook):\n",
    "* jcr_esperado.csv: Contine los valores del JCR de años previos\n",
    "* diferencias.csv: Contiene las diferencias entre el JCR real y el JCR obtenido por la alumna \n",
    "* citas.csv: Contine el núemro de citas obtenidas por cada revista\n",
    "\n",
    "__NOTA__: Estos ficheros se pueden obtener ejecutando el _script_ de Python __calcJCR.py__."
   ]
  },
  {
   "cell_type": "code",
   "execution_count": null,
   "metadata": {},
   "outputs": [],
   "source": [
    "# Lectura de datos\n",
    "try:\n",
    "    df_jcr = pd.read_csv(\"jcr_esperado.csv\")\n",
    "    df_citas = pd.read_csv(\"citas.csv\")\n",
    "    df_diferencias = pd.read_csv(\"diferencias.csv\")\n",
    "except FileNotFoundError:\n",
    "    print(\"Error: no se pudo cargar uno o más archivos de datos.\")\n",
    "    exit()"
   ]
  },
  {
   "attachments": {},
   "cell_type": "markdown",
   "metadata": {},
   "source": [
    "### __DATOS PARA EL ENTRENAMIENTO DEL MODELO__\n",
    "\n",
    "Para poder entrenar nuestro modelo, se emplearán los datos obtenidos desde 2018 hasta 2021. Se tratará de predecir el JCR del último año (2021)."
   ]
  },
  {
   "cell_type": "code",
   "execution_count": null,
   "metadata": {},
   "outputs": [],
   "source": [
    "# Seleccionar columnas de 2018 a 2021 junto con la columna de Revista\n",
    "anio_i = 2018\n",
    "anio_f = 2021 + 1\n",
    "df_jcr1 = df_jcr.loc[:, ['Revista'] + [f'JCR {anio}' for anio in range(anio_i,anio_f+1,1)]]\n",
    "df_citas1 = df_citas.loc[:, ['Revista'] + [f'Citas {anio}' for anio in range(anio_i,anio_f+1,1)]]\n",
    "df_diferencias1 = df_diferencias.loc[:, ['Revista'] + [f'Diff {anio}' for anio in range(anio_i,anio_f+1,1)]]\n",
    "\n",
    "# Unión de los datos en función de la revista\n",
    "df1 = pd.merge(df_jcr1, df_citas1, on=\"Revista\")\n",
    "df1 = pd.merge(df1, df_diferencias1, on=\"Revista\")"
   ]
  },
  {
   "cell_type": "code",
   "execution_count": null,
   "metadata": {},
   "outputs": [],
   "source": [
    "# Separar los datos en conjunto de entrenamiento y prueba\n",
    "X = df1.drop(columns=[\"Revista\", f\"Diff {anio_f-1}\", f\"JCR {anio_f-1}\"])\n",
    "y = df1[f\"JCR {anio_f-1}\"]\n"
   ]
  },
  {
   "attachments": {},
   "cell_type": "markdown",
   "metadata": {},
   "source": [
    "### __TRATAMIENTO DE LOS DATOS__\n",
    "\n",
    "Dado que el _dataset_ en cuestión tiene _missing values_, se prueban distintas formas de reemplazarlos."
   ]
  },
  {
   "cell_type": "code",
   "execution_count": null,
   "metadata": {},
   "outputs": [],
   "source": [
    "# Comprobamos si hay missing values en nuestros datos \n",
    "\n",
    "# Verificar si hay valores faltantes en X\n",
    "if X.isnull().values.any():\n",
    "    print(\"Hay missing values en X\")\n",
    "\n",
    "# Verificar si hay valores faltantes en y\n",
    "if y.isnull().values.any():\n",
    "    print(\"Hay missing values en y\")\n"
   ]
  },
  {
   "cell_type": "code",
   "execution_count": null,
   "metadata": {},
   "outputs": [],
   "source": [
    "from sklearn.impute import SimpleImputer, KNNImputer\n",
    "\n",
    "\"\"\"\n",
    "+------+\n",
    "| NOTA | La mediana da resultados mucho mejores que la media.\n",
    "+------+\n",
    "\"\"\"\n",
    "carryOn = True\n",
    "\n",
    "while carryOn:\n",
    "    estrategia = int(input(\"Seleccione la estrategia de imputación deseada:\\n 1 - Media\\n 2 - Mediana\\n\"))\n",
    "   \n",
    "    # Seleccionar estrategia -> crear imputador\n",
    "    if estrategia == 1:\n",
    "        # utilizando la media\n",
    "        X = X.fillna(X.mean()).values\n",
    "        y = y.fillna(y.mean()).values\n",
    "        carryOn = False\n",
    "    elif estrategia == 2:\n",
    "        # utilizando la mediana\n",
    "        X = X.fillna(X.median()).values\n",
    "        y = y.fillna(y.median()).values   \n",
    "        carryOn = False\n",
    "    else:\n",
    "        print(\"Estrategia no válida.\")\n",
    "\n",
    "\n",
    "if np.isnan(X).any() or np.isnan(y).any():\n",
    "    print(\"No se han eliminado los missing values correctamente.\")\n",
    "else:\n",
    "    print(\"Se han eliminado los missing values correctamente.\")\n",
    "    \n"
   ]
  },
  {
   "attachments": {},
   "cell_type": "markdown",
   "metadata": {},
   "source": [
    "### __ESTIMADORES__\n",
    "\n",
    "Para resolver este problema de regresión, se han seleccionado diferentes modelos. De entre todos ellos, se elegirá el que mejores resultados obtenga. \n"
   ]
  },
  {
   "cell_type": "code",
   "execution_count": null,
   "metadata": {},
   "outputs": [],
   "source": [
    "estimators = [('lasso', LassoCV(random_state=42)), ('ridge', RidgeCV()), (\"linearsvr\", LinearSVR(random_state=42))]\n",
    "\n",
    "models = [  \n",
    "        (\"Linear Regression\", LinearRegression(),\n",
    "            {# Parámetros a seleccionar\n",
    "            'fit_intercept': [True, False]\n",
    "            }         \n",
    "        ),\n",
    "        \n",
    "        (\"Random Forest\", RandomForestRegressor(), \n",
    "            { # Parámetros a seleccionar\n",
    "            \"n_estimators\": [50, 100, 150, 200, 300, 400, 500], # Nº de árboles -> 200 - 500\n",
    "            \"max_depth\": [10, 20, 30, 40, 50] # Profundidad\n",
    "            }\n",
    "        ),\n",
    "        \n",
    "        (\"XGB Regressor\", XGBRegressor(),\n",
    "                {# Parámetros a seleccionar\n",
    "                 'tree_method' : [\"hist\",\"exact\", \"approx\"],\n",
    "                 'learning_rate': [0.0001, 0.001, 0.01, 0.1]\n",
    "                }           \n",
    "        )\n",
    "        \n",
    "        # ¡¡NO FUNCIONA CORRECTAMENTE!! No termina de converger... ¿será por los parámetros o porq hay mucho ruido en el data set?\n",
    "        # ConvergenceWarning: Stochastic Optimizer: Maximum iterations (500) reached and the optimization hasn't converged yet\n",
    "        # (\"MLP\", MLPRegressor(),\n",
    "        #     { # Parámetros a seleccionar\n",
    "        #     'max_iter' : [500, 700, 800],\n",
    "        #     'hidden_layer_sizes': [(50,), (100,), (150,), (200,)], # Nº de neuronas en la capa ocultas \n",
    "        #     'alpha': [0.0001, 0.001],#, 0.01, 0.1], # Coeficiente de regularización\n",
    "        #     'learning_rate_init': [0.0001, 0.001]#, 0.01] # Tasa de aprendizaje \n",
    "        #     }\n",
    "        # )\n",
    "\n",
    "        # ¡¡TARDA DEMASIADO!!\n",
    "        # (\"Support Vector Machine\", SVR(),\n",
    "        #     {# Parámetros a seleccionar\n",
    "        #     'kernel': ['rbf', 'poly', 'sigmoid'], # núcleo\n",
    "        #     'C': [0.1, 1, 10, 100], # parámetro de regularización -> penalización de errores\n",
    "        #     'gamma': [0.1, 1, 10, 100] # coeficiente del núcleo\n",
    "        #     }\n",
    "        # )\n",
    "        \n",
    "        # ¡¡NO FUNCIONA CORRECTAMENTE!! No termina de converger... ¿será por los parámetros o porq hay mucho ruido en el data set?\n",
    "        # (\"Stacking Regressor\", StackingRegressor(estimators = estimators),\n",
    "        #  {# Parámetros a seleccionar\n",
    "        #   'ridge__alphas': [1, 2, 3],\n",
    "        #   'lasso__alphas': [[1, 2, 3]]\n",
    "        #  }\n",
    "        # )      \n",
    "\n",
    "        # TODO: Meter el resto de modelos AQUÍ ...          \n",
    "        ]"
   ]
  },
  {
   "attachments": {},
   "cell_type": "markdown",
   "metadata": {},
   "source": [
    "### __VALIDACIÓN CRUZADA ANIDADA__\n",
    "\n",
    "Se ha elegido el método de validación cruzada anidada (_nested cross validation_) para resolver el problema en cuestión debido a sus ventajas en la evaluación del modelo y la selección de hiperparámetros. _Nested cross validation_ se utiliza para estimar el rendimiento de un modelo de aprendizaje automático y su capacidad para generalizar a nuevos datos. A diferencia de la validación cruzada tradicional, que utiliza una sola partición de los datos para la selección de hiperparámetros, nested cross validation utiliza múltiples particiones para evaluar la capacidad del modelo para generalizar. De esta manera, se pueden obtener estimaciones más precisas del rendimiento del modelo y evitar la sobreoptimización de los hiperparámetros."
   ]
  },
  {
   "cell_type": "code",
   "execution_count": null,
   "metadata": {},
   "outputs": [],
   "source": [
    "\"\"\" Definir los objetos para la NESTED CROSS VALIDATION \"\"\"\n",
    "inner_cv = RepeatedKFold(n_splits=2, n_repeats=5, random_state=42)\n",
    "outer_cv = RepeatedKFold(n_splits=2, n_repeats=5, random_state=13)"
   ]
  },
  {
   "cell_type": "code",
   "execution_count": null,
   "metadata": {},
   "outputs": [],
   "source": [
    "# Para cada modelo...\n",
    "results = {}\n",
    "rmse_scores = []\n",
    "for nombre, estimator, param_grid in models:\n",
    "    \n",
    "    \"\"\" OUTER LOOP \"\"\"\n",
    "    # Iterar a través de los splits del RepeatedKFold externo\n",
    "    for train_index, test_index in outer_cv.split(X):\n",
    "\n",
    "        # Dividir los datos X e y en train y test para este split\n",
    "        X_train, X_test = X[train_index], X[test_index]\n",
    "        y_train, y_test = y[train_index], y[test_index]\n",
    "        \n",
    "        \"\"\" INNER LOOP \"\"\"\n",
    "        # Realizar el GridSearchCV con los datos de entrenamiento y el espacio de búsqueda definido\n",
    "        grid_search = GridSearchCV(estimator=estimator, param_grid=param_grid, cv=inner_cv, scoring='neg_mean_squared_error')\n",
    "        grid_search.fit(X_train, y_train)\n",
    "\n",
    "        # Obtener el mejor modelo y predecir con los datos de test\n",
    "        best_param = grid_search.best_params_\n",
    "        best_model = grid_search.best_estimator_\n",
    "        y_pred = best_model.predict(X_test)\n",
    "\n",
    "        # Calcular el RMSE y agregarlo a la lista de scores\n",
    "        rmse_score = mean_squared_error(y_test, y_pred, squared=False)\n",
    "        rmse_scores.append(rmse_score)\n",
    "           \n",
    "    # Imprimir los resultados  :.2f\n",
    "    print(f'[Modelo \"{nombre}\"]')\n",
    "    print(f'Valores de RMSE: {rmse_scores}')\n",
    "    print(f'Media RMSE: {np.mean(rmse_scores)}')\n",
    "    \n",
    "    \"\"\" GUARDAR RESULTADOS \"\"\"\n",
    "    # Se guardarán en forma de diccionario\n",
    "    results[nombre] = {\"param\" : best_param, \"rmse\" : np.mean(rmse_scores)}\n",
    "    \n"
   ]
  },
  {
   "attachments": {},
   "cell_type": "markdown",
   "metadata": {},
   "source": [
    "Salidas:\n",
    "\n",
    "--\n",
    "\n",
    "[Modelo \"Random Forest\"] -> 13-18 min\n",
    "Valores de RMSE: [4.301733731789326, 2.9286670891226017, 3.3348233778011647, 3.2889456205515266, 4.3131707294828505, 3.1905380329652147, 2.5767212276637586, 3.8749518159563894, 3.0719302637331194, 3.5412513436252233]\n",
    "Media RMSE: 3.4422733232691174\n",
    "\n",
    "--\n",
    "\n",
    "[Modelo \"Linear Regression\"] -> 1 min\n",
    "Valores de RMSE: [3.495971637230915, 3.580935236168282, 2.8904570894700865, 707.8963165285971, 3.061039862836039, 2.729042258759272, 3.0921298075695867, 3.743605105085152, 3.5568260728688776, 3.486510058117999]\n",
    "Media RMSE: 73.75328336567034\n",
    "\n",
    "--\n",
    "\n",
    "[Modelo \"XG BRegressor\"] -> 1 min\n",
    "Valores de RMSE: [3.495971637230915, 3.580935236168282, 2.8904570894700865, 707.8963165285971, 3.061039862836039, 2.729042258759272, 3.0921298075695867, 3.743605105085152, 3.5568260728688776, 3.486510058117999, 3.831202228712716, 3.168028079841655, 4.468831605343768, 3.267163413461616, 4.094474897644119, 4.082177521645486, 3.331670199866158, 4.011435162116206, 3.1726924964860963, 3.864345066678913]\n",
    "Media RMSE: 38.741242716425\n",
    "\n",
    "--"
   ]
  },
  {
   "attachments": {},
   "cell_type": "markdown",
   "metadata": {},
   "source": [
    "### __GRAFICAR RESULTADOS__\n",
    "\n",
    "Finalmente, se realiza una comparativa entre los diferentes modelos a través de una gráfica."
   ]
  },
  {
   "cell_type": "code",
   "execution_count": 3,
   "metadata": {},
   "outputs": [
    {
     "data": {
      "image/png": "[encoded data removed]",
      "text/plain": [
       "<Figure size 640x480 with 1 Axes>"
      ]
     },
     "metadata": {},
     "output_type": "display_data"
    }
   ],
   "source": [
    "import matplotlib.pyplot as plt\n",
    "\n",
    "# Obtener los nombres y puntajes de los resultados\n",
    "nombres = ['Random Forest', \"Linear Regression\", \"XGB Regressor\"]\n",
    "scores = [3.4422733232691174, 73.75328336567034, 38.741242716425]\n",
    "for nombre, result in results.items():\n",
    "    nombres.append(nombre)\n",
    "    scores.append(result[\"rmse\"]) # Mean squared error\n",
    "    \n",
    "\n",
    "# Crear la gráfica de barras\n",
    "plt.bar(nombres, scores)\n",
    "\n",
    "# Configurar el título y los ejes\n",
    "plt.title(\"Error cometido\")\n",
    "plt.xlabel(\"Modelo\")\n",
    "plt.ylabel(\"Mean squared error\")\n",
    "\n",
    "# Mostrar la gráfica\n",
    "plt.show()\n",
    "\n"
   ]
  }
 ],
 "metadata": {
  "kernelspec": {
   "display_name": "Python 3",
   "language": "python",
   "name": "python3"
  },
  "language_info": {
   "codemirror_mode": {
    "name": "ipython",
    "version": 3
   },
   "file_extension": ".py",
   "mimetype": "text/x-python",
   "name": "python",
   "nbconvert_exporter": "python",
   "pygments_lexer": "ipython3",
   "version": "3.11.1"
  },
  "orig_nbformat": 4,
  "vscode": {
   "interpreter": {
    "hash": "8eb04673b01a2de0ed694c2360187dd24a06045587d22f086b963392427ff411"
   }
  }
 },
 "nbformat": 4,
 "nbformat_minor": 2
}
